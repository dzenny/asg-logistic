{
 "cells": [
  {
   "cell_type": "markdown",
   "metadata": {},
   "source": [
    "#\n",
    "\n",
    "$$y=\\frac{\\max}{1+e^{k(T-T_0)}}+\\min$$"
   ]
  },
  {
   "cell_type": "code",
   "execution_count": 97,
   "metadata": {},
   "outputs": [],
   "source": [
    "import scipy.optimize\n",
    "import numpy as np\n",
    "import matplotlib.pyplot as plt\n",
    "from ipywidgets import interact\n",
    "\n",
    "\n",
    "data = {\n",
    "    10: (\n",
    "        [100, 150, 200, 220, 230, 250, 300, 350, 400],\n",
    "        [283, 267, 249, 232, 221, 187, 97,   45,  34],\n",
    "        [254.0, 31.0, 0.03, 260.0]        \n",
    "    ),\n",
    "    20: (\n",
    "        [100, 150, 200, 220, 230, 250, 300, 350, 400],\n",
    "        [283, 267, 226, 208, 191,  81,  46,  42,  34],\n",
    "        [254.0, 31.0, 0.05, 230.0]        \n",
    "    ),\n",
    "    30: (\n",
    "        [100, 150, 200, 220, 230, 250, 300, 350, 400],\n",
    "        [285, 267, 226, 168,  93,  74,  44,  38,  34],\n",
    "        [254.0, 31.0, 0.05, 220.0]        \n",
    "    ),\n",
    "\n",
    "}\n",
    "\n",
    "\n",
    "def error(xs, ys):\n",
    "    \"\"\"Вычисляем максимальную относительную ошибку\"\"\"\n",
    "    series = [np.abs(x-y)/x for x, y in zip(xs, ys)]\n",
    "    return np.max(series)\n",
    "\n",
    "def f(params):\n",
    "    max, min, k, t0 = params\n",
    "    y = lambda t: max/(1+np.exp(k*(t-t0)))+min\n",
    "    return np.frompyfunc(y, 1, 1)\n",
    "\n",
    "def output(params):\n",
    "    print(f'               max     min       k       t0   δ')\n",
    "    for param in params:\n",
    "        title, (max, min, k, t0), err = param\n",
    "        print(f'{title}  {max:.3f} {min:.3f} {k:.5f} {t0:.3f} {err:.2f}%')\n",
    "\n"
   ]
  },
  {
   "cell_type": "code",
   "execution_count": 102,
   "metadata": {},
   "outputs": [],
   "source": [
    "def show(minutes):\n",
    "    ts, cs, x0 = data[minutes]\n",
    "\n",
    "    def target_sqr(params):\n",
    "        max, min, k, t0 = params\n",
    "        sum = 0\n",
    "        for t, c in zip(ts, cs):\n",
    "            sum += (max/(1+np.exp(k*(t-t0)))+min-c)**2\n",
    "        return sum\n",
    "\n",
    "    def target_abs(params):\n",
    "        max, min, k, t0 = params\n",
    "        sum = 0\n",
    "        for t, c in zip(ts, cs):\n",
    "            sum += np.abs(max/(1+np.exp(k*(t-t0)))+min-c)\n",
    "        return sum\n",
    "\n",
    "    res_sqr = scipy.optimize.minimize(target_sqr, x0=x0, method='BFGS')\n",
    "    res_abs = scipy.optimize.minimize(target_abs, x0=x0, method='BFGS')\n",
    "    fig, ax = plt.subplots(figsize=(12,8))\n",
    "    ax.plot(ts, cs, marker='o', color = 'blue', label='Эксперимент')\n",
    "\n",
    "    xs = np.linspace(100, 400, 100)\n",
    "    y = f(x0)\n",
    "    err_vis = error(cs, y(xs))\n",
    "    ax.plot(xs, y(xs), color = 'red', label= 'Визуальный подбор')\n",
    "    y = f(res_sqr.x)\n",
    "    err_sqr = error(cs, y(xs))\n",
    "    ax.plot(xs, y(xs), color = 'green', label='sqr -> min (BFGS)')\n",
    "    y = f(res_abs.x)\n",
    "    err_abs = error(cs, y(xs))\n",
    "    ax.plot(xs, y(xs), color = 'purple', label='abs -> min (BFGS)')\n",
    "    ax.legend();\n",
    "\n",
    "    output(zip(\n",
    "        ['Визуально: ', 'sqr -> min:', 'abs -> min:'],\n",
    "        [x0, res_sqr.x, res_abs.x],\n",
    "        [err_vis, err_sqr, err_abs],\n",
    "    ))\n",
    "\n",
    "#show(10)\n"
   ]
  },
  {
   "cell_type": "code",
   "execution_count": 103,
   "metadata": {},
   "outputs": [
    {
     "data": {
      "application/vnd.jupyter.widget-view+json": {
       "model_id": "826d136648124708983856f89efe0f90",
       "version_major": 2,
       "version_minor": 0
      },
      "text/plain": [
       "interactive(children=(Dropdown(description='minutes', options=(10, 20, 30), value=10), Output()), _dom_classes…"
      ]
     },
     "metadata": {},
     "output_type": "display_data"
    }
   ],
   "source": [
    "interact(show, minutes=[10, 20, 30]);\n"
   ]
  },
  {
   "cell_type": "code",
   "execution_count": null,
   "metadata": {},
   "outputs": [],
   "source": []
  }
 ],
 "metadata": {
  "kernelspec": {
   "display_name": "Python 3.10.2 64-bit",
   "language": "python",
   "name": "python3"
  },
  "language_info": {
   "codemirror_mode": {
    "name": "ipython",
    "version": 3
   },
   "file_extension": ".py",
   "mimetype": "text/x-python",
   "name": "python",
   "nbconvert_exporter": "python",
   "pygments_lexer": "ipython3",
   "version": "3.10.2"
  },
  "orig_nbformat": 4,
  "vscode": {
   "interpreter": {
    "hash": "a5e60d35b1dfa997ee0d47fef0492cbab5dd67b2408d83fcc31e48f89d514121"
   }
  }
 },
 "nbformat": 4,
 "nbformat_minor": 2
}
